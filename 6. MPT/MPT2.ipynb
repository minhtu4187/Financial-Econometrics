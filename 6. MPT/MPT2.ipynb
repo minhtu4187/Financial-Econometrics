{
 "cells": [
  {
   "cell_type": "code",
   "execution_count": 1,
   "metadata": {},
   "outputs": [],
   "source": [
    "import numpy as np\n",
    "from scipy.optimize import minimize"
   ]
  },
  {
   "cell_type": "code",
   "execution_count": 2,
   "metadata": {},
   "outputs": [
    {
     "name": "stdout",
     "output_type": "stream",
     "text": [
      "[0.62648871 0.37351129]\n"
     ]
    }
   ],
   "source": [
    "def f(x):\n",
    "    w1 = x[0]\n",
    "    w2 = x[1]\n",
    "    \n",
    "    r1, r2, rf = 15, 10, 6\n",
    "    s1, s2, s12 = 500, 250, 100\n",
    "    \n",
    "    numerator = w1*r1 + w2*r2 - rf\n",
    "    denominator = np.sqrt(w1**2 * s1 + w2**2 * s2 + 2*w1*w2*s12)\n",
    "    \n",
    "    return -numerator/denominator\n",
    "\n",
    "def cons1(x):\n",
    "    w1 = x[0]\n",
    "    w2 = x[1]\n",
    "    return 1 - w1 - w2\n",
    "\n",
    "w0 = np.array([0, 1])\n",
    "\n",
    "b1 = (0, 1)\n",
    "b2 = (0, 1)\n",
    "bounds = (b1, b2)\n",
    "\n",
    "const1 = {'type': 'eq', 'fun': cons1}\n",
    "\n",
    "results = minimize(f, w0, method='SLSQP',\n",
    "                   bounds=bounds, constraints=[const1])\n",
    "\n",
    "print(results.x)"
   ]
  },
  {
   "cell_type": "code",
   "execution_count": 3,
   "metadata": {},
   "outputs": [
    {
     "name": "stdout",
     "output_type": "stream",
     "text": [
      "16.67098804658119\n",
      "7.13244352921876\n"
     ]
    }
   ],
   "source": [
    "w1 = results.x[0]\n",
    "w2 = results.x[1]\n",
    "\n",
    "r1, r2, rf = 15, 10, 6\n",
    "s1, s2, s12 = 500, 250, 100\n",
    "print(np.sqrt(w1**2 * s1 + w2**2 * s2 + 2*w1*w2*s12))\n",
    "print(w1*r1 + w2*r2 - rf)"
   ]
  }
 ],
 "metadata": {
  "kernelspec": {
   "display_name": "base",
   "language": "python",
   "name": "python3"
  },
  "language_info": {
   "codemirror_mode": {
    "name": "ipython",
    "version": 3
   },
   "file_extension": ".py",
   "mimetype": "text/x-python",
   "name": "python",
   "nbconvert_exporter": "python",
   "pygments_lexer": "ipython3",
   "version": "3.10.14"
  }
 },
 "nbformat": 4,
 "nbformat_minor": 2
}
