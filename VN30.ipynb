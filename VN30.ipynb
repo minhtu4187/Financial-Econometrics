{
 "cells": [
  {
   "cell_type": "code",
   "execution_count": 1,
   "metadata": {},
   "outputs": [
    {
     "name": "stderr",
     "output_type": "stream",
     "text": [
      "2025-02-18 00:44:03 - vnstock3.common.data.data_explorer - WARNING - Thông tin niêm yết & giao dịch sẽ được truy xuất từ TCBS\n"
     ]
    },
    {
     "name": "stdout",
     "output_type": "stream",
     "text": [
      "Fetching data for VNINDEX...\n",
      "Fetching data for VCB...\n"
     ]
    },
    {
     "name": "stderr",
     "output_type": "stream",
     "text": [
      "2025-02-18 00:44:03 - vnstock3.common.data.data_explorer - WARNING - Thông tin niêm yết & giao dịch sẽ được truy xuất từ TCBS\n"
     ]
    },
    {
     "name": "stdout",
     "output_type": "stream",
     "text": [
      "Fetching data for ACB...\n"
     ]
    },
    {
     "name": "stderr",
     "output_type": "stream",
     "text": [
      "2025-02-18 00:44:04 - vnstock3.common.data.data_explorer - WARNING - Thông tin niêm yết & giao dịch sẽ được truy xuất từ TCBS\n"
     ]
    },
    {
     "name": "stdout",
     "output_type": "stream",
     "text": [
      "Fetching data for VNM...\n"
     ]
    },
    {
     "name": "stderr",
     "output_type": "stream",
     "text": [
      "2025-02-18 00:44:04 - vnstock3.common.data.data_explorer - WARNING - Thông tin niêm yết & giao dịch sẽ được truy xuất từ TCBS\n"
     ]
    },
    {
     "name": "stdout",
     "output_type": "stream",
     "text": [
      "Fetching data for VIC...\n"
     ]
    },
    {
     "name": "stderr",
     "output_type": "stream",
     "text": [
      "2025-02-18 00:44:04 - vnstock3.common.data.data_explorer - WARNING - Thông tin niêm yết & giao dịch sẽ được truy xuất từ TCBS\n"
     ]
    },
    {
     "name": "stdout",
     "output_type": "stream",
     "text": [
      "Fetching data for VHM...\n"
     ]
    },
    {
     "name": "stderr",
     "output_type": "stream",
     "text": [
      "2025-02-18 00:44:05 - vnstock3.common.data.data_explorer - WARNING - Thông tin niêm yết & giao dịch sẽ được truy xuất từ TCBS\n"
     ]
    },
    {
     "name": "stdout",
     "output_type": "stream",
     "text": [
      "Fetching data for BID...\n"
     ]
    },
    {
     "name": "stderr",
     "output_type": "stream",
     "text": [
      "2025-02-18 00:44:05 - vnstock3.common.data.data_explorer - WARNING - Thông tin niêm yết & giao dịch sẽ được truy xuất từ TCBS\n"
     ]
    },
    {
     "name": "stdout",
     "output_type": "stream",
     "text": [
      "Fetching data for CTG...\n"
     ]
    },
    {
     "name": "stderr",
     "output_type": "stream",
     "text": [
      "2025-02-18 00:44:06 - vnstock3.common.data.data_explorer - WARNING - Thông tin niêm yết & giao dịch sẽ được truy xuất từ TCBS\n"
     ]
    },
    {
     "name": "stdout",
     "output_type": "stream",
     "text": [
      "Fetching data for FPT...\n"
     ]
    },
    {
     "name": "stderr",
     "output_type": "stream",
     "text": [
      "2025-02-18 00:44:06 - vnstock3.common.data.data_explorer - WARNING - Thông tin niêm yết & giao dịch sẽ được truy xuất từ TCBS\n"
     ]
    },
    {
     "name": "stdout",
     "output_type": "stream",
     "text": [
      "Fetching data for HPG...\n"
     ]
    },
    {
     "name": "stderr",
     "output_type": "stream",
     "text": [
      "2025-02-18 00:44:07 - vnstock3.common.data.data_explorer - WARNING - Thông tin niêm yết & giao dịch sẽ được truy xuất từ TCBS\n"
     ]
    },
    {
     "name": "stdout",
     "output_type": "stream",
     "text": [
      "Fetching data for MWG...\n"
     ]
    },
    {
     "name": "stderr",
     "output_type": "stream",
     "text": [
      "2025-02-18 00:44:07 - vnstock3.common.data.data_explorer - WARNING - Thông tin niêm yết & giao dịch sẽ được truy xuất từ TCBS\n"
     ]
    },
    {
     "name": "stdout",
     "output_type": "stream",
     "text": [
      "Fetching data for MSN...\n"
     ]
    },
    {
     "name": "stderr",
     "output_type": "stream",
     "text": [
      "2025-02-18 00:44:08 - vnstock3.common.data.data_explorer - WARNING - Thông tin niêm yết & giao dịch sẽ được truy xuất từ TCBS\n"
     ]
    },
    {
     "name": "stdout",
     "output_type": "stream",
     "text": [
      "Fetching data for VJC...\n"
     ]
    },
    {
     "name": "stderr",
     "output_type": "stream",
     "text": [
      "2025-02-18 00:44:08 - vnstock3.common.data.data_explorer - WARNING - Thông tin niêm yết & giao dịch sẽ được truy xuất từ TCBS\n"
     ]
    },
    {
     "name": "stdout",
     "output_type": "stream",
     "text": [
      "Fetching data for VRE...\n"
     ]
    },
    {
     "name": "stderr",
     "output_type": "stream",
     "text": [
      "2025-02-18 00:44:08 - vnstock3.common.data.data_explorer - WARNING - Thông tin niêm yết & giao dịch sẽ được truy xuất từ TCBS\n"
     ]
    },
    {
     "name": "stdout",
     "output_type": "stream",
     "text": [
      "Fetching data for PLX...\n"
     ]
    },
    {
     "name": "stderr",
     "output_type": "stream",
     "text": [
      "2025-02-18 00:44:09 - vnstock3.common.data.data_explorer - WARNING - Thông tin niêm yết & giao dịch sẽ được truy xuất từ TCBS\n"
     ]
    },
    {
     "name": "stdout",
     "output_type": "stream",
     "text": [
      "Fetching data for SAB...\n"
     ]
    },
    {
     "name": "stderr",
     "output_type": "stream",
     "text": [
      "2025-02-18 00:44:09 - vnstock3.common.data.data_explorer - WARNING - Thông tin niêm yết & giao dịch sẽ được truy xuất từ TCBS\n"
     ]
    },
    {
     "name": "stdout",
     "output_type": "stream",
     "text": [
      "Fetching data for GAS...\n"
     ]
    },
    {
     "name": "stderr",
     "output_type": "stream",
     "text": [
      "2025-02-18 00:44:10 - vnstock3.common.data.data_explorer - WARNING - Thông tin niêm yết & giao dịch sẽ được truy xuất từ TCBS\n"
     ]
    },
    {
     "name": "stdout",
     "output_type": "stream",
     "text": [
      "Fetching data for VJC...\n"
     ]
    },
    {
     "name": "stderr",
     "output_type": "stream",
     "text": [
      "2025-02-18 00:44:10 - vnstock3.common.data.data_explorer - WARNING - Thông tin niêm yết & giao dịch sẽ được truy xuất từ TCBS\n"
     ]
    },
    {
     "name": "stdout",
     "output_type": "stream",
     "text": [
      "Fetching data for VNM...\n"
     ]
    },
    {
     "name": "stderr",
     "output_type": "stream",
     "text": [
      "2025-02-18 00:44:11 - vnstock3.common.data.data_explorer - WARNING - Thông tin niêm yết & giao dịch sẽ được truy xuất từ TCBS\n"
     ]
    },
    {
     "name": "stdout",
     "output_type": "stream",
     "text": [
      "Fetching data for VHM...\n"
     ]
    },
    {
     "name": "stderr",
     "output_type": "stream",
     "text": [
      "2025-02-18 00:44:11 - vnstock3.common.data.data_explorer - WARNING - Thông tin niêm yết & giao dịch sẽ được truy xuất từ TCBS\n"
     ]
    },
    {
     "name": "stdout",
     "output_type": "stream",
     "text": [
      "Fetching data for VIC...\n"
     ]
    },
    {
     "name": "stderr",
     "output_type": "stream",
     "text": [
      "2025-02-18 00:44:12 - vnstock3.common.data.data_explorer - WARNING - Thông tin niêm yết & giao dịch sẽ được truy xuất từ TCBS\n"
     ]
    },
    {
     "name": "stdout",
     "output_type": "stream",
     "text": [
      "                            OLS Regression Results                            \n",
      "==============================================================================\n",
      "Dep. Variable:          mean_excess_r   R-squared:                       0.396\n",
      "Model:                            OLS   Adj. R-squared:                  0.304\n",
      "Method:                 Least Squares   F-statistic:                     11.74\n",
      "Date:                Tue, 18 Feb 2025   Prob (F-statistic):            0.00122\n",
      "Time:                        00:44:12   Log-Likelihood:                 93.887\n",
      "No. Observations:                  16   AIC:                            -181.8\n",
      "Df Residuals:                      13   BIC:                            -179.5\n",
      "Df Model:                           2                                         \n",
      "Covariance Type:                  HC0                                         \n",
      "==============================================================================\n",
      "                 coef    std err          z      P>|z|      [0.025      0.975]\n",
      "------------------------------------------------------------------------------\n",
      "const          0.0001      0.001      0.179      0.858      -0.001       0.002\n",
      "beta           0.0020      0.001      3.502      0.000       0.001       0.003\n",
      "sys_r         -9.5610      2.855     -3.349      0.001     -15.157      -3.965\n",
      "==============================================================================\n",
      "Omnibus:                        1.163   Durbin-Watson:                   2.424\n",
      "Prob(Omnibus):                  0.559   Jarque-Bera (JB):                0.945\n",
      "Skew:                           0.370   Prob(JB):                        0.624\n",
      "Kurtosis:                       2.068   Cond. No.                     2.49e+04\n",
      "==============================================================================\n",
      "\n",
      "Notes:\n",
      "[1] Standard Errors are heteroscedasticity robust (HC0)\n",
      "[2] The condition number is large, 2.49e+04. This might indicate that there are\n",
      "strong multicollinearity or other numerical problems.\n",
      "0.0004860458593802421\n"
     ]
    },
    {
     "name": "stderr",
     "output_type": "stream",
     "text": [
      "kurtosistest only valid for n>=20 ... continuing anyway, n=16\n"
     ]
    }
   ],
   "source": [
    "import pandas as pd\n",
    "from vnstock3 import Vnstock\n",
    "import statsmodels.api as sm\n",
    "import numpy as np\n",
    "\n",
    "# Function to fetch historical data for a stock using vnstock3\n",
    "def get_historical_data(symbol):\n",
    "    try:\n",
    "        # Fetch historical data from vnstock3\n",
    "        stock = Vnstock().stock(symbol=symbol, source='VCI')\n",
    "        data = stock.quote.history(start='2023-01-01', end='2024-05-25')\n",
    "        return data[['time', 'close']]  # Return only the trading date and closing prices\n",
    "    except Exception as e:\n",
    "        print(f\"Error retrieving data for {symbol}: {e}\")\n",
    "        return None\n",
    "\n",
    "VN30 = ['VNINDEX', 'VCB', 'ACB', 'VNM', 'VIC', 'VHM', 'BID', 'CTG', 'FPT', 'HPG', 'MWG', 'MSN', 'VJC', 'VRE', 'PLX', 'SAB', 'GAS', 'VJC', 'VNM', 'VHM', 'VIC']\n",
    "# Fetch historical data for each stock in the VN30 index\n",
    "# store in 1 dataframe\n",
    "\n",
    "# Get data for all stocks\n",
    "closing_prices = {}\n",
    "for ticker in VN30:\n",
    "    print(f\"Fetching data for {ticker}...\")\n",
    "    closing_prices[ticker] = get_historical_data(ticker)\n",
    "\n",
    "# Convert the dictionary to a DataFrame with the TradingDate as index\n",
    "df_list = []\n",
    "for ticker, data in closing_prices.items():\n",
    "    if data is not None:\n",
    "        data = data.set_index('time')\n",
    "        data.rename(columns={'close': ticker}, inplace=True)\n",
    "        df_list.append(data)\n",
    "\n",
    "# Combine all data into one DataFrame\n",
    "combined_df = pd.concat(df_list, axis=1)\n",
    "#print(combined_df.head())\n",
    "\n",
    "ret = combined_df.pct_change().dropna() - 0.03/250\n",
    "\n",
    "\n",
    "# first pass regressions\n",
    "n_assets = len(ret.columns) - 1\n",
    "alpha = np.zeros((n_assets,))\n",
    "beta = np.zeros((n_assets,))\n",
    "mean_excess_r = np.zeros((n_assets,))\n",
    "sys_r = np.zeros((n_assets,))\n",
    "\n",
    "x = ret['VNINDEX'] # market index excess return\n",
    "i = 0\n",
    "asset_list = ret.columns.to_list()\n",
    "for asset in asset_list:\n",
    "    if asset != 'VNINDEX':\n",
    "        y = ret[asset]\n",
    "        model = sm.OLS(y, sm.add_constant(x)).fit()\n",
    "        alpha[i] = model.params['const']\n",
    "        beta[i] = model.params['VNINDEX']\n",
    "        sys_r[i] = np.var(model.resid)\n",
    "        mean_excess_r[i] = np.mean(y)\n",
    "        i +=1\n",
    "        \n",
    "parameters = pd.DataFrame()\n",
    "parameters['alpha'] = alpha\n",
    "parameters['beta'] = beta\n",
    "parameters['sys_r'] = sys_r\n",
    "parameters['mean_excess_r'] = mean_excess_r\n",
    "\n",
    "# Second pass regression\n",
    "\n",
    "y = parameters['mean_excess_r']\n",
    "x = parameters[['beta','sys_r']]\n",
    "\n",
    "model1 = sm.OLS(y, sm.add_constant(x)).fit(cov_type='HC0')\n",
    "\n",
    "print(model1.summary())\n",
    "print(np.mean(ret['VNINDEX']))        \n",
    "\n",
    "#CAPM holds"
   ]
  }
 ],
 "metadata": {
  "kernelspec": {
   "display_name": "base",
   "language": "python",
   "name": "python3"
  },
  "language_info": {
   "codemirror_mode": {
    "name": "ipython",
    "version": 3
   },
   "file_extension": ".py",
   "mimetype": "text/x-python",
   "name": "python",
   "nbconvert_exporter": "python",
   "pygments_lexer": "ipython3",
   "version": "3.10.14"
  }
 },
 "nbformat": 4,
 "nbformat_minor": 2
}
